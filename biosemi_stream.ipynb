{
 "cells": [
  {
   "cell_type": "markdown",
   "metadata": {},
   "source": [
    "# Biosemi Active II recorded file streaming"
   ]
  },
  {
   "cell_type": "markdown",
   "metadata": {},
   "source": [
    "Resample and Save"
   ]
  },
  {
   "cell_type": "code",
   "execution_count": null,
   "metadata": {},
   "outputs": [],
   "source": [
    "# import mne\n",
    "# import numpy as np\n",
    "# from mne.channels import make_standard_montage\n",
    "# import matplotlib.pyplot as plt\n",
    "# from mne.datasets import eegbci\n",
    "\n",
    "# raw = mne.io.read_raw_bdf(\"datasets/group1_block1.bdf\")\n",
    "\n",
    "# eegbci.standardize(raw)  # set channel names\n",
    "# montage = make_standard_montage(\"biosemi64\")\n",
    "\n",
    "# raw.set_montage(montage, on_missing='ignore')\n",
    "\n",
    "# raw_eeg = raw.copy().resample(512)\n",
    "\n",
    "# raw_eeg.save(\"datasets/biosemi_SSVEP.fif\", overwrite=True)"
   ]
  },
  {
   "cell_type": "markdown",
   "metadata": {},
   "source": [
    "Load data for stream"
   ]
  },
  {
   "cell_type": "code",
   "execution_count": 17,
   "metadata": {},
   "outputs": [
    {
     "name": "stdout",
     "output_type": "stream",
     "text": [
      "Opening raw data file datasets/biosemi_SSVEP.fif...\n",
      "    Range : 0 ... 188927 =      0.000 ...   368.998 secs\n",
      "Ready.\n"
     ]
    },
    {
     "name": "stderr",
     "output_type": "stream",
     "text": [
      "C:\\Users\\pipo_\\AppData\\Local\\Temp\\ipykernel_12412\\2241404531.py:8: RuntimeWarning: This filename (datasets/biosemi_SSVEP.fif) does not conform to MNE naming conventions. All raw files should end with raw.fif, raw_sss.fif, raw_tsss.fif, _meg.fif, _eeg.fif, _ieeg.fif, raw.fif.gz, raw_sss.fif.gz, raw_tsss.fif.gz, _meg.fif.gz, _eeg.fif.gz or _ieeg.fif.gz\n",
      "  raw_eeg = mne.io.read_raw_fif(\"datasets/biosemi_SSVEP.fif\")\n"
     ]
    }
   ],
   "source": [
    "import mne\n",
    "import numpy as np\n",
    "from mne.channels import make_standard_montage\n",
    "import matplotlib.pyplot as plt\n",
    "from mne.datasets import eegbci\n",
    "\n",
    "\n",
    "raw_eeg = mne.io.read_raw_fif(\"datasets/biosemi_SSVEP.fif\")"
   ]
  },
  {
   "cell_type": "code",
   "execution_count": 18,
   "metadata": {},
   "outputs": [
    {
     "name": "stdout",
     "output_type": "stream",
     "text": [
      "event trial_begin\n",
      "event 24Hz\n",
      "event trial_end\n",
      "event trial_begin\n",
      "event 12Hz\n",
      "event trial_end\n",
      "event trial_begin\n",
      "event 6Hz\n",
      "event trial_end\n",
      "event trial_begin\n",
      "event 24Hz\n",
      "event trial_end\n",
      "event trial_begin\n"
     ]
    },
    {
     "ename": "KeyboardInterrupt",
     "evalue": "",
     "output_type": "error",
     "traceback": [
      "\u001b[31m---------------------------------------------------------------------------\u001b[39m",
      "\u001b[31mKeyboardInterrupt\u001b[39m                         Traceback (most recent call last)",
      "\u001b[36mCell\u001b[39m\u001b[36m \u001b[39m\u001b[32mIn[18]\u001b[39m\u001b[32m, line 52\u001b[39m\n\u001b[32m     49\u001b[39m \u001b[38;5;28;01mif\u001b[39;00m \u001b[34m__name__\u001b[39m == \u001b[33m'\u001b[39m\u001b[33m__main__\u001b[39m\u001b[33m'\u001b[39m:\n\u001b[32m     50\u001b[39m     \u001b[38;5;28;01mwhile\u001b[39;00m \u001b[38;5;28;01mTrue\u001b[39;00m:\n\u001b[32m     51\u001b[39m         \u001b[38;5;66;03m# Send raw EEG data in chunks\u001b[39;00m\n\u001b[32m---> \u001b[39m\u001b[32m52\u001b[39m         \u001b[43msend_eeg_samples\u001b[49m\u001b[43m(\u001b[49m\u001b[43mraw_eeg\u001b[49m\u001b[43m)\u001b[49m\n",
      "\u001b[36mCell\u001b[39m\u001b[36m \u001b[39m\u001b[32mIn[18]\u001b[39m\u001b[32m, line 46\u001b[39m, in \u001b[36msend_eeg_samples\u001b[39m\u001b[34m(raw_eeg, chunk_size)\u001b[39m\n\u001b[32m     43\u001b[39m \u001b[38;5;66;03m# Transpose to match LSL format: list of samples (n_samples x n_channels)\u001b[39;00m\n\u001b[32m     44\u001b[39m eeg_outlet.push_chunk(chunk.T.tolist())\n\u001b[32m---> \u001b[39m\u001b[32m46\u001b[39m time.sleep(chunk_size / sfreq)\n",
      "\u001b[31mKeyboardInterrupt\u001b[39m: "
     ]
    }
   ],
   "source": [
    "from pylsl import StreamInfo, StreamOutlet\n",
    "import time\n",
    "import mne\n",
    "\n",
    "events = mne.find_events(raw_eeg, shortest_event = 0, verbose = False) \n",
    "\n",
    "select_ch = ['O1','Oz','PO3','POz','Pz']\n",
    "raw_eeg = raw_eeg.pick(select_ch)\n",
    "\n",
    "eeg_info = StreamInfo(name='SomSom', type='EEG', channel_count=raw_eeg.info['nchan'],\n",
    "                      nominal_srate=raw_eeg.info['sfreq'], channel_format='float32')\n",
    "eeg_outlet = StreamOutlet(eeg_info)\n",
    "\n",
    "event_dict =  {'12Hz': 8,\n",
    "'24Hz': 4,\n",
    "'6Hz': 10,\n",
    "'30Hz': 2,\n",
    "'trial_begin': 1,\n",
    "'trial_end': 20,\n",
    "'end_exper': 40\n",
    "}\n",
    "\n",
    "id_to_key = {v: k for k, v in event_dict.items()}\n",
    "\n",
    "def send_eeg_samples(raw_eeg, chunk_size=15):\n",
    "    \"\"\" Send raw EEG data in chunks through LSL. \"\"\"\n",
    "    sfreq = raw_eeg.info['sfreq']  # Sampling frequency\n",
    "    n_samples = len(raw_eeg.times)  # Total number of samples in the raw data\n",
    "    data, _ = raw_eeg[:, :]  # Get all the EEG data as an array\n",
    "    index_timestamp = 0\n",
    "\n",
    "\n",
    "    for idx in range(0, n_samples, chunk_size):\n",
    "        if idx > events[index_timestamp,0]:\n",
    "            if  events[index_timestamp,2] in id_to_key:\n",
    "                print(\"event\", id_to_key[events[index_timestamp,2]])\n",
    "                index_timestamp += 1 \n",
    "\n",
    "\n",
    "        # Extract a chunk of `chunk_size` samples\n",
    "        chunk = data[:, idx:idx + chunk_size]\n",
    "\n",
    "        # Transpose to match LSL format: list of samples (n_samples x n_channels)\n",
    "        eeg_outlet.push_chunk(chunk.T.tolist())\n",
    "\n",
    "        time.sleep(chunk_size / sfreq)  # Sleep to maintain timing\n",
    "\n",
    "\n",
    "if __name__ == '__main__':\n",
    "    while True:\n",
    "        # Send raw EEG data in chunks\n",
    "        send_eeg_samples(raw_eeg)\n"
   ]
  }
 ],
 "metadata": {
  "kernelspec": {
   "display_name": ".venv",
   "language": "python",
   "name": "python3"
  },
  "language_info": {
   "codemirror_mode": {
    "name": "ipython",
    "version": 3
   },
   "file_extension": ".py",
   "mimetype": "text/x-python",
   "name": "python",
   "nbconvert_exporter": "python",
   "pygments_lexer": "ipython3",
   "version": "3.11.0"
  }
 },
 "nbformat": 4,
 "nbformat_minor": 2
}
