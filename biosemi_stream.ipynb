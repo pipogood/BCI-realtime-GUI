{
 "cells": [
  {
   "cell_type": "markdown",
   "metadata": {},
   "source": [
    "# Biosemi Active II recorded file streaming"
   ]
  },
  {
   "cell_type": "markdown",
   "metadata": {},
   "source": [
    "Resample and Save"
   ]
  },
  {
   "cell_type": "code",
   "execution_count": 4,
   "metadata": {},
   "outputs": [],
   "source": [
    "# import mne\n",
    "# import numpy as np\n",
    "# from mne.channels import make_standard_montage\n",
    "# import matplotlib.pyplot as plt\n",
    "# from mne.datasets import eegbci\n",
    "\n",
    "# raw = mne.io.read_raw_bdf(\"datasets/Testdata3.bdf\")\n",
    "\n",
    "# eegbci.standardize(raw)  # set channel names\n",
    "# montage = make_standard_montage(\"biosemi64\")\n",
    "\n",
    "# raw.set_montage(montage, on_missing='ignore')\n",
    "\n",
    "# raw_eeg = raw.copy().resample(512)\n",
    "\n",
    "# raw_eeg.save(\"datasets/biosemi_SSVEP.fif\", overwrite=True)"
   ]
  },
  {
   "cell_type": "markdown",
   "metadata": {},
   "source": [
    "Load data for stream"
   ]
  },
  {
   "cell_type": "code",
   "execution_count": 5,
   "metadata": {},
   "outputs": [
    {
     "name": "stdout",
     "output_type": "stream",
     "text": [
      "Opening raw data file datasets/biosemi_SSVEP.fif...\n",
      "    Range : 0 ... 100863 =      0.000 ...   196.998 secs\n",
      "Ready.\n"
     ]
    },
    {
     "name": "stderr",
     "output_type": "stream",
     "text": [
      "C:\\Users\\pipo_\\AppData\\Local\\Temp\\ipykernel_17684\\245558524.py:8: RuntimeWarning: This filename (datasets/biosemi_SSVEP.fif) does not conform to MNE naming conventions. All raw files should end with raw.fif, raw_sss.fif, raw_tsss.fif, _meg.fif, _eeg.fif, _ieeg.fif, raw.fif.gz, raw_sss.fif.gz, raw_tsss.fif.gz, _meg.fif.gz, _eeg.fif.gz or _ieeg.fif.gz\n",
      "  raw_eeg = mne.io.read_raw_fif(\"datasets/biosemi_SSVEP.fif\")\n"
     ]
    }
   ],
   "source": [
    "import mne\n",
    "import numpy as np\n",
    "from mne.channels import make_standard_montage\n",
    "import matplotlib.pyplot as plt\n",
    "from mne.datasets import eegbci\n",
    "\n",
    "\n",
    "raw_eeg = mne.io.read_raw_fif(\"datasets/biosemi_SSVEP.fif\")\n",
    "select_ch = ['O1','Oz','PO3','PO4','POz','Pz']\n",
    "raw_eeg = raw_eeg.pick(select_ch)"
   ]
  },
  {
   "cell_type": "code",
   "execution_count": 6,
   "metadata": {},
   "outputs": [
    {
     "ename": "KeyboardInterrupt",
     "evalue": "",
     "output_type": "error",
     "traceback": [
      "\u001b[1;31m---------------------------------------------------------------------------\u001b[0m",
      "\u001b[1;31mTypeError\u001b[0m                                 Traceback (most recent call last)",
      "File \u001b[1;32mc:\\Python311\\Lib\\site-packages\\pylsl\\pylsl.py:476\u001b[0m, in \u001b[0;36mStreamOutlet.push_chunk\u001b[1;34m(self, x, timestamp, pushthrough)\u001b[0m\n\u001b[0;32m    475\u001b[0m n_values \u001b[38;5;241m=\u001b[39m \u001b[38;5;28mself\u001b[39m\u001b[38;5;241m.\u001b[39mchannel_count \u001b[38;5;241m*\u001b[39m \u001b[38;5;28mlen\u001b[39m(x)\n\u001b[1;32m--> 476\u001b[0m data_buff \u001b[38;5;241m=\u001b[39m \u001b[43m(\u001b[49m\u001b[38;5;28;43mself\u001b[39;49m\u001b[38;5;241;43m.\u001b[39;49m\u001b[43mvalue_type\u001b[49m\u001b[43m \u001b[49m\u001b[38;5;241;43m*\u001b[39;49m\u001b[43m \u001b[49m\u001b[43mn_values\u001b[49m\u001b[43m)\u001b[49m\u001b[38;5;241;43m.\u001b[39;49m\u001b[43mfrom_buffer\u001b[49m\u001b[43m(\u001b[49m\u001b[43mx\u001b[49m\u001b[43m)\u001b[49m\n\u001b[0;32m    477\u001b[0m handle_error(\u001b[38;5;28mself\u001b[39m\u001b[38;5;241m.\u001b[39mdo_push_chunk(\u001b[38;5;28mself\u001b[39m\u001b[38;5;241m.\u001b[39mobj, data_buff,\n\u001b[0;32m    478\u001b[0m                                 c_long(n_values),\n\u001b[0;32m    479\u001b[0m                                 c_double(timestamp),\n\u001b[0;32m    480\u001b[0m                                 c_int(pushthrough)))\n",
      "\u001b[1;31mTypeError\u001b[0m: memoryview: a bytes-like object is required, not 'list'",
      "\nDuring handling of the above exception, another exception occurred:\n",
      "\u001b[1;31mKeyboardInterrupt\u001b[0m                         Traceback (most recent call last)",
      "Cell \u001b[1;32mIn[6], line 33\u001b[0m\n\u001b[0;32m     31\u001b[0m chunk_size \u001b[38;5;241m=\u001b[39m \u001b[38;5;241m512\u001b[39m\n\u001b[0;32m     32\u001b[0m \u001b[38;5;66;03m# Send raw EEG data in chunks\u001b[39;00m\n\u001b[1;32m---> 33\u001b[0m \u001b[43msend_eeg_chunks\u001b[49m\u001b[43m(\u001b[49m\u001b[43mraw_eeg\u001b[49m\u001b[43m,\u001b[49m\u001b[43m \u001b[49m\u001b[43mchunk_size\u001b[49m\u001b[43m)\u001b[49m\n",
      "Cell \u001b[1;32mIn[6], line 24\u001b[0m, in \u001b[0;36msend_eeg_chunks\u001b[1;34m(raw_eeg, chunk_size)\u001b[0m\n\u001b[0;32m     22\u001b[0m chunk \u001b[38;5;241m=\u001b[39m data[:, start_idx:end_idx]\n\u001b[0;32m     23\u001b[0m \u001b[38;5;66;03m# Push the chunk of raw EEG data to the LSL stream\u001b[39;00m\n\u001b[1;32m---> 24\u001b[0m \u001b[43meeg_outlet\u001b[49m\u001b[38;5;241;43m.\u001b[39;49m\u001b[43mpush_chunk\u001b[49m\u001b[43m(\u001b[49m\u001b[43mchunk\u001b[49m\u001b[38;5;241;43m.\u001b[39;49m\u001b[43mT\u001b[49m\u001b[38;5;241;43m.\u001b[39;49m\u001b[43mtolist\u001b[49m\u001b[43m(\u001b[49m\u001b[43m)\u001b[49m\u001b[43m)\u001b[49m  \u001b[38;5;66;03m# Transpose for proper LSL format\u001b[39;00m\n\u001b[0;32m     25\u001b[0m \u001b[38;5;66;03m# print(f\"Sent chunk of {end_idx - start_idx} samples starting at {start_idx} and ending at {end_idx}\")\u001b[39;00m\n\u001b[0;32m     26\u001b[0m time\u001b[38;5;241m.\u001b[39msleep(\u001b[38;5;241m1\u001b[39m \u001b[38;5;241m/\u001b[39m sfreq)\n",
      "File \u001b[1;32mc:\\Python311\\Lib\\site-packages\\pylsl\\pylsl.py:490\u001b[0m, in \u001b[0;36mStreamOutlet.push_chunk\u001b[1;34m(self, x, timestamp, pushthrough)\u001b[0m\n\u001b[0;32m    488\u001b[0m     constructor \u001b[38;5;241m=\u001b[39m \u001b[38;5;28mself\u001b[39m\u001b[38;5;241m.\u001b[39mvalue_type \u001b[38;5;241m*\u001b[39m \u001b[38;5;28mlen\u001b[39m(x)\n\u001b[0;32m    489\u001b[0m     \u001b[38;5;66;03m# noinspection PyCallingNonCallable\u001b[39;00m\n\u001b[1;32m--> 490\u001b[0m     handle_error(\u001b[38;5;28;43mself\u001b[39;49m\u001b[38;5;241;43m.\u001b[39;49m\u001b[43mdo_push_chunk\u001b[49m\u001b[43m(\u001b[49m\u001b[38;5;28;43mself\u001b[39;49m\u001b[38;5;241;43m.\u001b[39;49m\u001b[43mobj\u001b[49m\u001b[43m,\u001b[49m\u001b[43m \u001b[49m\u001b[43mconstructor\u001b[49m\u001b[43m(\u001b[49m\u001b[38;5;241;43m*\u001b[39;49m\u001b[43mx\u001b[49m\u001b[43m)\u001b[49m\u001b[43m,\u001b[49m\n\u001b[0;32m    491\u001b[0m \u001b[43m                                    \u001b[49m\u001b[43mc_long\u001b[49m\u001b[43m(\u001b[49m\u001b[38;5;28;43mlen\u001b[39;49m\u001b[43m(\u001b[49m\u001b[43mx\u001b[49m\u001b[43m)\u001b[49m\u001b[43m)\u001b[49m\u001b[43m,\u001b[49m\n\u001b[0;32m    492\u001b[0m \u001b[43m                                    \u001b[49m\u001b[43mc_double\u001b[49m\u001b[43m(\u001b[49m\u001b[43mtimestamp\u001b[49m\u001b[43m)\u001b[49m\u001b[43m,\u001b[49m\n\u001b[0;32m    493\u001b[0m \u001b[43m                                    \u001b[49m\u001b[43mc_int\u001b[49m\u001b[43m(\u001b[49m\u001b[43mpushthrough\u001b[49m\u001b[43m)\u001b[49m\u001b[43m)\u001b[49m)\n\u001b[0;32m    494\u001b[0m \u001b[38;5;28;01melse\u001b[39;00m:\n\u001b[0;32m    495\u001b[0m     \u001b[38;5;28;01mraise\u001b[39;00m \u001b[38;5;167;01mValueError\u001b[39;00m(\u001b[38;5;124m\"\u001b[39m\u001b[38;5;124mEach sample must have the same number of channels (\u001b[39m\u001b[38;5;124m\"\u001b[39m\n\u001b[0;32m    496\u001b[0m                      \u001b[38;5;241m+\u001b[39m \u001b[38;5;28mstr\u001b[39m(\u001b[38;5;28mself\u001b[39m\u001b[38;5;241m.\u001b[39mchannel_count) \u001b[38;5;241m+\u001b[39m \u001b[38;5;124m\"\u001b[39m\u001b[38;5;124m).\u001b[39m\u001b[38;5;124m\"\u001b[39m)\n",
      "\u001b[1;31mKeyboardInterrupt\u001b[0m: "
     ]
    }
   ],
   "source": [
    "from mne_realtime import LSLClient, MockLSLStream\n",
    "from pylsl import StreamInfo, StreamOutlet\n",
    "import time\n",
    "import mne\n",
    "\n",
    "# Assuming raw_eeg is already created\n",
    "# Create the LSL stream for the raw EEG data\n",
    "eeg_info = StreamInfo(name='SomSom', type='EEG', channel_count=raw_eeg.info['nchan'],\n",
    "                      nominal_srate=raw_eeg.info['sfreq'], channel_format='float32')\n",
    "eeg_outlet = StreamOutlet(eeg_info)\n",
    "\n",
    "def send_eeg_chunks(raw_eeg, chunk_size):\n",
    "    \"\"\" Send raw EEG data in chunks through LSL. \"\"\"\n",
    "    sfreq = raw_eeg.info['sfreq']  # Sampling frequency\n",
    "    n_samples = len(raw_eeg.times)  # Total number of samples in the raw data\n",
    "    data, _ = raw_eeg[:, :]  # Get all the EEG data as an array\n",
    "\n",
    "    for start_idx in range(0, n_samples - chunk_size + 1):\n",
    "        # Determine the end of the chunk with 1-sample overlapping\n",
    "        end_idx = start_idx + chunk_size\n",
    "        # Extract the chunk of data\n",
    "        chunk = data[:, start_idx:end_idx]\n",
    "        # Push the chunk of raw EEG data to the LSL stream\n",
    "        eeg_outlet.push_chunk(chunk.T.tolist())  # Transpose for proper LSL format\n",
    "        # print(f\"Sent chunk of {end_idx - start_idx} samples starting at {start_idx} and ending at {end_idx}\")\n",
    "        time.sleep(1 / sfreq)\n",
    "\n",
    "if __name__ == '__main__':\n",
    "    while True:\n",
    "        # Set the chunk size (e.g., 100 samples per chunk)\n",
    "        chunk_size = 512\n",
    "        # Send raw EEG data in chunks\n",
    "        send_eeg_chunks(raw_eeg, chunk_size)"
   ]
  }
 ],
 "metadata": {
  "kernelspec": {
   "display_name": "Python 3",
   "language": "python",
   "name": "python3"
  },
  "language_info": {
   "codemirror_mode": {
    "name": "ipython",
    "version": 3
   },
   "file_extension": ".py",
   "mimetype": "text/x-python",
   "name": "python",
   "nbconvert_exporter": "python",
   "pygments_lexer": "ipython3",
   "version": "3.11.0"
  }
 },
 "nbformat": 4,
 "nbformat_minor": 2
}
